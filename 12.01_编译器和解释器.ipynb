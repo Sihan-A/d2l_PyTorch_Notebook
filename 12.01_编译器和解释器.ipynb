{
  "nbformat": 4,
  "nbformat_minor": 0,
  "metadata": {
    "colab": {
      "name": "12.01_编译器和解释器.ipynb",
      "provenance": [],
      "authorship_tag": "ABX9TyPXLW0fSn/d9uIctOmMl0Np",
      "include_colab_link": true
    },
    "kernelspec": {
      "name": "python3",
      "display_name": "Python 3"
    },
    "language_info": {
      "name": "python"
    },
    "accelerator": "GPU"
  },
  "cells": [
    {
      "cell_type": "markdown",
      "metadata": {
        "id": "view-in-github",
        "colab_type": "text"
      },
      "source": [
        "<a href=\"https://colab.research.google.com/github/Sihan-A/d2l_PyTorch_Notebook/blob/main/12.01_%E7%BC%96%E8%AF%91%E5%99%A8%E5%92%8C%E8%A7%A3%E9%87%8A%E5%99%A8.ipynb\" target=\"_parent\"><img src=\"https://colab.research.google.com/assets/colab-badge.svg\" alt=\"Open In Colab\"/></a>"
      ]
    },
    {
      "cell_type": "markdown",
      "metadata": {
        "id": "Eff3dp1atxhH"
      },
      "source": [
        "# 12.1 编译器和解释器"
      ]
    },
    {
      "cell_type": "code",
      "metadata": {
        "id": "3QZYEJc5td4L"
      },
      "source": [
        "# 1. 使用GPU：Runtime -> Change runtime type -> GPU\n",
        "# 2. 安装d2l\n",
        "!pip install git+https://github.com/d2l-ai/d2l-zh@release"
      ],
      "execution_count": null,
      "outputs": []
    },
    {
      "cell_type": "code",
      "metadata": {
        "id": "HG-xPiyOt4e2"
      },
      "source": [
        "# 3. 创建和移动文件夹\n",
        "%mkdir /content/d2l\n",
        "%cd /content/d2l"
      ],
      "execution_count": null,
      "outputs": []
    },
    {
      "cell_type": "markdown",
      "metadata": {
        "id": "1MyBsnwuubMJ"
      },
      "source": [
        "命令式编程（imperative programming）"
      ]
    },
    {
      "cell_type": "code",
      "metadata": {
        "id": "Kx3hk7d6t4Yi"
      },
      "source": [
        "def add(a, b):\n",
        "    return a + b\n",
        "\n",
        "def fancy_func(a, b, c, d):\n",
        "    e = add(a, b)\n",
        "    f = add(c, d)\n",
        "    g = add(e, f)\n",
        "    return g\n",
        "\n",
        "print(fancy_func(1, 2, 3, 4))"
      ],
      "execution_count": null,
      "outputs": []
    },
    {
      "cell_type": "code",
      "metadata": {
        "id": "0xKctBQHt4R3"
      },
      "source": [
        ""
      ],
      "execution_count": null,
      "outputs": []
    }
  ]
}